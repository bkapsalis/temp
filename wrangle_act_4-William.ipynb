{
 "cells": [
  {
   "cell_type": "code",
   "execution_count": null,
   "metadata": {},
   "outputs": [],
   "source": [
    "#Method One: append list then add it to df as a column\n",
    "\n",
    "'''df['split_text'] = df['text'].str.lower().str.split(\" \")\n",
    "gender = []\n",
    "\n",
    "male = ['he', 'him', 'his', \"he's\", 'himself', 'boy'] \n",
    "female = ['she', 'her', 'hers', 'herself', \"she's\", 'girl']\n",
    "\n",
    "for index,row in df.iterrows():\n",
    "    if(pd.Series(row['split_text']).isin(male).any()):\n",
    "        gender.append(\"male\")\n",
    "    elif(pd.Series(row['split_text']).isin(female).any()):\n",
    "        gender.append(\"female\") \n",
    "    else:\n",
    "        gender.append(\"None\")\n",
    "    \n",
    "df['gender'] = gender '''\n"
   ]
  },
  {
   "cell_type": "code",
   "execution_count": null,
   "metadata": {},
   "outputs": [],
   "source": [
    "#Method 2: Add column gender and fill with empty string then loop through and update male or female\n",
    "\n",
    "df['split_text'] = df['text'].str.lower().str.split(\" \")\n",
    "\n",
    "\n",
    "male = ['he', 'him', 'his', \"he's\", 'himself', 'boy'] \n",
    "female = ['she', 'her', 'hers', 'herself', \"she's\", 'girl']\n",
    "\n",
    "df['gender']= \"\"\n",
    "\n",
    "for index,row in df.iterrows():\n",
    "    if(pd.Series(row['split_text']).isin(male).any()):\n",
    "        row['gender'] = 'male'\n",
    "    elif(pd.Series(row['split_text']).isin(female).any()):\n",
    "        row[\"gender\"] = \"female\"\n",
    "\n",
    "    else:\n",
    "        row[\"gender\"]=\"undetermined\"\n",
    "    \n",
    "df['gender'] = gender "
   ]
  },
  {
   "cell_type": "code",
   "execution_count": null,
   "metadata": {},
   "outputs": [],
   "source": [
    "#Method 3: SAME CODE as above but .apply() instead of for loop  DOES NOT WORK\n",
    "\n",
    "'''df['split_text'] = df['text'].str.lower().str.split(\" \")\n",
    "\n",
    "\n",
    "male = ['he', 'him', 'his', \"he's\", 'himself', 'boy'] \n",
    "female = ['she', 'her', 'hers', 'herself', \"she's\", 'girl']\n",
    "\n",
    "df['gender']= \"\"\n",
    "\n",
    "def genderer(row):\n",
    "    \n",
    "    if(pd.Series(row['split_text']).isin(male).any()):   \n",
    "        row.loc['gender'] = 'male'\n",
    "    elif(pd.Series(row['split_text']).isin(female).any()):\n",
    "        row.loc[\"gender\"] = \"female\"\n",
    "    else:\n",
    "        row.loc[\"gender\"]=\"undetermined\"\n",
    "\n",
    "        \n",
    "df.apply(genderer, axis=1)'''         \n",
    "        "
   ]
  },
  {
   "cell_type": "code",
   "execution_count": null,
   "metadata": {},
   "outputs": [],
   "source": [
    "df.shape"
   ]
  },
  {
   "cell_type": "code",
   "execution_count": null,
   "metadata": {},
   "outputs": [],
   "source": [
    "df['gender'].value_counts()"
   ]
  },
  {
   "cell_type": "code",
   "execution_count": null,
   "metadata": {},
   "outputs": [],
   "source": [
    "df.head()"
   ]
  },
  {
   "cell_type": "code",
   "execution_count": null,
   "metadata": {},
   "outputs": [],
   "source": []
  }
 ],
 "metadata": {
  "anaconda-cloud": {},
  "kernelspec": {
   "display_name": "Python [conda env:anaconda-PythonData]",
   "language": "python",
   "name": "conda-env-anaconda-PythonData-py"
  },
  "language_info": {
   "codemirror_mode": {
    "name": "ipython",
    "version": 3
   },
   "file_extension": ".py",
   "mimetype": "text/x-python",
   "name": "python",
   "nbconvert_exporter": "python",
   "pygments_lexer": "ipython3",
   "version": "3.6.7"
  }
 },
 "nbformat": 4,
 "nbformat_minor": 2
}
